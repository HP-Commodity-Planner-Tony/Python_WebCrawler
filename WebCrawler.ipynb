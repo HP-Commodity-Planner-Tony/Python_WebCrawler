{
 "cells": [
  {
   "cell_type": "markdown",
   "id": "56002f76",
   "metadata": {},
   "source": [
    "# Use Selenium web crawler to auto-download daily reports"
   ]
  },
  {
   "cell_type": "markdown",
   "id": "c1f8b9c4",
   "metadata": {},
   "source": [
    "In this python script, I used selenium web crawler to download reports from external website with given username and password and perform further analysis. This script is then set to run at certain time with Windows task scheduler. I wrote five functions to retrieve different reports and perform corresponding analysis for different business objectives."
   ]
  },
  {
   "cell_type": "markdown",
   "id": "7c531b17",
   "metadata": {},
   "source": [
    "### Modules and path settings for the download"
   ]
  },
  {
   "cell_type": "markdown",
   "id": "0c53bf48",
   "metadata": {},
   "source": [
    "First, I imported selenium and downloaded its required webdriver for web-crawling. I also jotted down the engineering memo for future maintenance.   "
   ]
  },
  {
   "cell_type": "code",
   "execution_count": 1,
   "id": "0f65bad4",
   "metadata": {},
   "outputs": [],
   "source": [
    "\"\"\"\n",
    "Engineering Memo:\n",
    "1. Change login information if needed\n",
    "2. Chromedriver needs to be updated if needed\n",
    "3. The old file will be replaced if running the whole code more than one time in the same day\n",
    "4. Below five function can be executed separately\n",
    "\n",
    "\"\"\"\n",
    "\n",
    "from selenium import webdriver\n",
    "import time\n",
    "import os\n",
    "from pathlib import Path\n",
    "import datetime\n",
    "import glob\n",
    "import pandas as pd\n",
    "import numpy as np"
   ]
  },
  {
   "cell_type": "code",
   "execution_count": 2,
   "id": "7bd1a5c9",
   "metadata": {},
   "outputs": [
    {
     "name": "stderr",
     "output_type": "stream",
     "text": [
      "C:\\Users\\hout\\AppData\\Local\\Temp/ipykernel_32472/4017793452.py:17: DeprecationWarning: executable_path has been deprecated, please pass in a Service object\n",
      "  chrome = webdriver.Chrome(path1, options=chromeOptions)\n"
     ]
    }
   ],
   "source": [
    "home = str(Path.home())\n",
    "\n",
    "# path1 = chromedriverpath\n",
    "# path2 = download location\n",
    "path1 = os.path.join(home, 'Documents', 'Python', 'chromedriver.exe')\n",
    "path2 = os.path.join(home, 'Documents', 'Python', 'Webcrawling')\n",
    "\n",
    "# chrome\n",
    "chromeOptions = webdriver.ChromeOptions()\n",
    "\n",
    "#Directory\n",
    "prefs = {\"download.default_directory\" : path2}\n",
    "chromeOptions.add_experimental_option(\"prefs\",prefs)\n",
    "\n",
    "chromeOptions.add_argument(\"--disable-notifications\")\n",
    "\n",
    "chrome = webdriver.Chrome(path1, options=chromeOptions)"
   ]
  },
  {
   "cell_type": "markdown",
   "id": "8c246c97",
   "metadata": {},
   "source": [
    "### Function1 : Download Inventory Aging reports - SiteA"
   ]
  },
  {
   "cell_type": "code",
   "execution_count": 7,
   "id": "4e164b15",
   "metadata": {},
   "outputs": [],
   "source": [
    "def Download_Schenkeragingreport():\n",
    "\n",
    "    chrome.get(#Address)\n",
    "\n",
    "    # login\n",
    "    username = chrome.find_element_by_name(\"user\")\n",
    "    username.click()\n",
    "    username.send_keys(#UserName)\n",
    "\n",
    "    password = chrome.find_element_by_name(\"password\")\n",
    "    password.send_keys(#Password)\n",
    "\n",
    "    login = chrome.find_element_by_name(\"image1\")\n",
    "    login.click()\n",
    "    time.sleep(1)\n",
    "\n",
    "    # CSview\n",
    "    CsView = chrome.find_element_by_css_selector(\"body > form > table > tbody > tr:nth-child(8) > td > a > img\")\n",
    "    CsView.click()\n",
    "    time.sleep(1)\n",
    "\n",
    "    # Inventoryaging\n",
    "    Invaging = chrome.find_element_by_css_selector(\"td:nth-child(1) > table > tbody > tr:nth-child(4) > td > a\")\n",
    "    Invaging.click()\n",
    "    time.sleep(1)\n",
    "\n",
    "    #Download\n",
    "    downloadI = chrome.find_element_by_css_selector(\"table > tbody > tr.Criteria2 > td:nth-child(6) > input\")\n",
    "    downloadI.click()"
   ]
  },
  {
   "cell_type": "markdown",
   "id": "c69d3e00",
   "metadata": {},
   "source": [
    "### Function2 : Download Receipt Summary reports - SiteA"
   ]
  },
  {
   "cell_type": "code",
   "execution_count": null,
   "id": "96f44bc5",
   "metadata": {},
   "outputs": [],
   "source": [
    "def Download_SchenkerReceiptSummary():\n",
    "\n",
    "    chrome.get(#Address)\n",
    "\n",
    "    # login\n",
    "    username = chrome.find_element_by_name(\"user\")\n",
    "    username.click()\n",
    "    username.send_keys(#UserName)\n",
    "\n",
    "    password = chrome.find_element_by_name(\"password\")\n",
    "    password.send_keys(#Password)\n",
    "\n",
    "    login = chrome.find_element_by_name(\"image1\")\n",
    "    login.click()\n",
    "\n",
    "    # CSview\n",
    "    CsView = chrome.find_element_by_css_selector(\"body > form > table > tbody > tr:nth-child(8) > td > a > img\")\n",
    "    CsView.click()\n",
    "    time.sleep(1)\n",
    "\n",
    "    # ReceiptSummary\n",
    "    RcptSummary = chrome.find_element_by_css_selector(\"td:nth-child(2) > table > tbody > tr:nth-child(2) > td > a\")\n",
    "    RcptSummary.click()\n",
    "    time.sleep(1)\n",
    "\n",
    "    # Shipstartdate\n",
    "    Shipstartdate = chrome.find_element_by_css_selector(\n",
    "        \"table.criteria > tbody > tr.criteria2 > td:nth-child(6) > a:nth-child(2) > img\")\n",
    "    Shipstartdate.click()\n",
    "    time.sleep(1)\n",
    "\n",
    "    #This is to define css selector place for the first date of every month\n",
    "    def weekdayoffirstdate():\n",
    "        today = datetime.date.today().replace(day=1)\n",
    "        day = today.weekday()\n",
    "        if day in (0, 1, 2, 3, 4):\n",
    "            day += 2\n",
    "            code = 'td:nth-child(' + str(day) + ')'\n",
    "        elif day == 5:\n",
    "            code = 'td.cal-DayCell'\n",
    "\n",
    "        elif day == 6:\n",
    "            day = 1\n",
    "            code = 'td:nth-child(' + str(day) + ')'\n",
    "        return code\n",
    "\n",
    "    # Date_first\n",
    "    date1 = chrome.find_element_by_css_selector(\n",
    "        \"tbody > tr:nth-child(2) > td > table > tbody > tr:nth-child(2) > \" + weekdayoffirstdate() + ' > a')\n",
    "    date1.click()\n",
    "    time.sleep(1)\n",
    "\n",
    "    # Download\n",
    "    downloadR = chrome.find_element_by_css_selector(\"table.criteria > tbody > tr.criteria2 > td:nth-child(7) > input\")\n",
    "    downloadR.click()"
   ]
  },
  {
   "cell_type": "markdown",
   "id": "6c56abcd",
   "metadata": {},
   "source": [
    "### Function3 : Download Inventory Aging reports - SiteB"
   ]
  },
  {
   "cell_type": "code",
   "execution_count": null,
   "id": "f552dfe2",
   "metadata": {},
   "outputs": [],
   "source": [
    "def Download_Jusdaagingreport():\n",
    "\n",
    "    chrome.get(#Address)\n",
    "\n",
    "    # login\n",
    "    username = chrome.find_element_by_id(\"textUID\")\n",
    "    username.click()\n",
    "    username.send_keys(#UserName)\n",
    "\n",
    "    password = chrome.find_element_by_id(\"textPWD\")\n",
    "    password.send_keys(#Password)\n",
    "\n",
    "    login = chrome.find_element_by_id(\"submitBtn\")\n",
    "    login.click()\n",
    "\n",
    "    #Switch frame\n",
    "    chrome.switch_to.frame(chrome.find_element_by_css_selector('html > frameset > frameset > frameset > frame:nth-child(1)'))\n",
    "\n",
    "    Inventory = chrome.find_element_by_id('webfx-tree-object-9-plus')\n",
    "    Inventory.click()\n",
    "\n",
    "    Invaging = chrome.find_element_by_id('webfx-tree-object-11-anchor')\n",
    "    Invaging.click()\n",
    "\n",
    "    # Switch frame\n",
    "    chrome.switch_to.default_content()\n",
    "    chrome.switch_to.frame(chrome.find_element_by_name('main'))\n",
    "\n",
    "    GO = chrome.find_element_by_css_selector('table:nth-child(6) > tbody > tr > td:nth-child(2) > a')\n",
    "    GO.click()\n",
    "\n",
    "    Export = chrome.find_element_by_css_selector('table:nth-child(7) > tbody > tr > td:nth-child(2) > a')\n",
    "    Export.click()"
   ]
  },
  {
   "cell_type": "markdown",
   "id": "4d90da19",
   "metadata": {},
   "source": [
    "### Function4 : Perform basic data analysis with pandas for the downloaded reports"
   ]
  },
  {
   "cell_type": "code",
   "execution_count": null,
   "id": "6dd22160",
   "metadata": {},
   "outputs": [],
   "source": [
    "def Transform_ReceiptSummary_LCD():\n",
    "\n",
    "    #Path for old receiptsummary csv\n",
    "    oldpath_schenker_receipt = glob.glob(os.path.join(path2, 'receipt*'))\n",
    "\n",
    "    #Filter to SOI and LCD\n",
    "    df_receipt = pd.read_csv(oldpath_schenker_receipt[0])\n",
    "    df_receipt['commodity'] = df_receipt['commodity'].str.strip()\n",
    "    df_receipt = df_receipt.loc[(df_receipt['commodity'] == 'LCD')]\n",
    "    df_receipt['owner'] = df_receipt['owner'].str.strip()\n",
    "    df_receipt2 = df_receipt.loc[df_receipt['owner'] == 'SOI']\n",
    "\n",
    "    #Pivot for LCD\n",
    "    df_table = pd.pivot_table(df_receipt2, values='qty_received', index=['hp_part_no', 'descr'], aggfunc=np.sum)\n",
    "\n",
    "    #Fill merge cells to previous value\n",
    "    df_table = df_table.fillna(method='ffill')\n",
    "\n",
    "    #Reset index\n",
    "    df_table = df_table.reset_index()\n",
    "\n",
    "    #df_all = empty df\n",
    "    df_all = pd.DataFrame(columns = ['hp_part_no', 'descr', 'qty_received'])\n",
    "    #df_lookup = df for lookup table\n",
    "    df_lookup = pd.read_excel(os.path.join(path2, 'Part number_Lookup_table.xlsx'))\n",
    "\n",
    "    #Match df_lookup with df_table and write to df_all\n",
    "    for index, row in df_lookup.iterrows():\n",
    "        df = df_table.loc[df_table['hp_part_no'].str.startswith(str(row['Part number'])), :]\n",
    "        df_all = df_all.append(df, ignore_index=True)\n",
    "\n",
    "    #Export\n",
    "    Current_Date = datetime.datetime.today().strftime('%Y%m%d')\n",
    "    new_path = os.path.join(path2, 'LCD_Receipt Summary-' + Current_Date + '.xlsx')\n",
    "    writer = pd.ExcelWriter(new_path, engine='xlsxwriter')\n",
    "    df_receipt.to_excel(writer, sheet_name='LCD_ReceiptSummary')\n",
    "    df_table.to_excel(writer, sheet_name='Pivot')\n",
    "    df_all.to_excel(writer, sheet_name='Lookup_Value')\n",
    "    writer.save()\n",
    "\n",
    "    #Remove old csv file\n",
    "    os.remove(oldpath_schenker_receipt[0])"
   ]
  },
  {
   "cell_type": "markdown",
   "id": "4e56ee4a",
   "metadata": {},
   "source": [
    "### Function5 : Change report names for dynamic input"
   ]
  },
  {
   "cell_type": "code",
   "execution_count": null,
   "id": "f5b3cd51",
   "metadata": {},
   "outputs": [],
   "source": [
    "def ChangeFileName():\n",
    "\n",
    "    oldpath_jusda = glob.glob(os.path.join(path2, 'Export*'))\n",
    "    oldpath_schenker = glob.glob(os.path.join(path2, 'inventoryaging*'))\n",
    "\n",
    "    Current_Date = datetime.datetime.today().strftime('%Y%m%d')\n",
    "\n",
    "    newpath_jusda = os.path.join(path2, 'Jusda Inventory -' + Current_Date + '.xls')\n",
    "    newpath_schenker = os.path.join(path2, 'Schenker Inventory -' + Current_Date + '.xls')\n",
    "\n",
    "    os.replace(oldpath_jusda[0], newpath_jusda)\n",
    "    os.replace(oldpath_schenker[0], newpath_schenker)"
   ]
  },
  {
   "cell_type": "markdown",
   "id": "fb9feff1",
   "metadata": {},
   "source": [
    "#### Run Functions"
   ]
  },
  {
   "cell_type": "code",
   "execution_count": null,
   "id": "8f5aea42",
   "metadata": {},
   "outputs": [],
   "source": [
    "#Run\n",
    "Download_Schenkeragingreport()\n",
    "Download_SchenkerReceiptSummary()\n",
    "Download_Jusdaagingreport()\n",
    "time.sleep(15)\n",
    "Transform_ReceiptSummary_LCD()\n",
    "ChangeFileName()"
   ]
  }
 ],
 "metadata": {
  "kernelspec": {
   "display_name": "Python 3 (ipykernel)",
   "language": "python",
   "name": "python3"
  },
  "language_info": {
   "codemirror_mode": {
    "name": "ipython",
    "version": 3
   },
   "file_extension": ".py",
   "mimetype": "text/x-python",
   "name": "python",
   "nbconvert_exporter": "python",
   "pygments_lexer": "ipython3",
   "version": "3.11.5"
  }
 },
 "nbformat": 4,
 "nbformat_minor": 5
}
